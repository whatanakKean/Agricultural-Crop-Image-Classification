{
 "cells": [
  {
   "cell_type": "markdown",
   "metadata": {},
   "source": [
    "# Data Preprocessing"
   ]
  },
  {
   "cell_type": "markdown",
   "metadata": {},
   "source": [
    "+ Data Augmentation\n",
    "    + Resize the images to the same size.\n",
    "+ Split dataset for train and test"
   ]
  },
  {
   "cell_type": "markdown",
   "metadata": {},
   "source": [
    "## Import Library"
   ]
  },
  {
   "cell_type": "code",
   "execution_count": 2,
   "metadata": {},
   "outputs": [],
   "source": [
    "import os\n",
    "import numpy as np\n",
    "import pandas as pd\n",
    "\n",
    "import cv2 as cv"
   ]
  },
  {
   "cell_type": "code",
   "execution_count": 3,
   "metadata": {},
   "outputs": [],
   "source": [
    "path  = './dataset'\n",
    "files = os.listdir(path)\n",
    "\n",
    "# Rename folder of each class \n",
    "folder_name =[]\n",
    "for i in files:\n",
    "    folder_name.append(i.replace('_',' ').replace('-',' '))\n",
    "\n",
    "labels = dict()\n",
    "for j in range(len(files)):\n",
    "    labels[folder_name[j]] = os.listdir(path+'/'+files[j])\n",
    "\n",
    "data = []\n",
    "for i in range(len(files)):\n",
    "    for j in range(len(labels[folder_name[i]])):\n",
    "        data.append([path+'/'+files[i]+'/'+labels[folder_name[i]][j],folder_name[i]])\n",
    "\n",
    "# to convert the list into dataframe\n",
    "df = pd.DataFrame(data,columns=['image','label'])"
   ]
  },
  {
   "cell_type": "code",
   "execution_count": 4,
   "metadata": {},
   "outputs": [
    {
     "ename": "ValueError",
     "evalue": "Must pass 2-d input. shape=(1, 183, 275, 3)",
     "output_type": "error",
     "traceback": [
      "\u001b[1;31m---------------------------------------------------------------------------\u001b[0m",
      "\u001b[1;31mValueError\u001b[0m                                Traceback (most recent call last)",
      "\u001b[1;32mc:\\Users\\TRC\\Documents\\Agricultural Crop Image Classification\\data_preprocessing.ipynb Cell 6\u001b[0m line \u001b[0;36m1\n\u001b[0;32m     <a href='vscode-notebook-cell:/c%3A/Users/TRC/Documents/Agricultural%20Crop%20Image%20Classification/data_preprocessing.ipynb#W5sZmlsZQ%3D%3D?line=9'>10</a>\u001b[0m     \u001b[39m# Resize the image to 255\u001b[39;00m\n\u001b[0;32m     <a href='vscode-notebook-cell:/c%3A/Users/TRC/Documents/Agricultural%20Crop%20Image%20Classification/data_preprocessing.ipynb#W5sZmlsZQ%3D%3D?line=10'>11</a>\u001b[0m     \u001b[39m# img = cv.resize(img,(255,1))\u001b[39;00m\n\u001b[0;32m     <a href='vscode-notebook-cell:/c%3A/Users/TRC/Documents/Agricultural%20Crop%20Image%20Classification/data_preprocessing.ipynb#W5sZmlsZQ%3D%3D?line=12'>13</a>\u001b[0m     df1\u001b[39m.\u001b[39mappend(img)\n\u001b[1;32m---> <a href='vscode-notebook-cell:/c%3A/Users/TRC/Documents/Agricultural%20Crop%20Image%20Classification/data_preprocessing.ipynb#W5sZmlsZQ%3D%3D?line=13'>14</a>\u001b[0m     X[i]\u001b[39m=\u001b[39mpd\u001b[39m.\u001b[39;49mDataFrame([df1[i]])\n\u001b[0;32m     <a href='vscode-notebook-cell:/c%3A/Users/TRC/Documents/Agricultural%20Crop%20Image%20Classification/data_preprocessing.ipynb#W5sZmlsZQ%3D%3D?line=15'>16</a>\u001b[0m X \u001b[39m=\u001b[39m pd\u001b[39m.\u001b[39mDataFrame(df1)\n",
      "File \u001b[1;32mc:\\Users\\TRC\\AppData\\Local\\Programs\\Python\\Python311\\Lib\\site-packages\\pandas\\core\\frame.py:762\u001b[0m, in \u001b[0;36mDataFrame.__init__\u001b[1;34m(self, data, index, columns, dtype, copy)\u001b[0m\n\u001b[0;32m    754\u001b[0m         mgr \u001b[39m=\u001b[39m arrays_to_mgr(\n\u001b[0;32m    755\u001b[0m             arrays,\n\u001b[0;32m    756\u001b[0m             columns,\n\u001b[1;32m   (...)\u001b[0m\n\u001b[0;32m    759\u001b[0m             typ\u001b[39m=\u001b[39mmanager,\n\u001b[0;32m    760\u001b[0m         )\n\u001b[0;32m    761\u001b[0m     \u001b[39melse\u001b[39;00m:\n\u001b[1;32m--> 762\u001b[0m         mgr \u001b[39m=\u001b[39m ndarray_to_mgr(\n\u001b[0;32m    763\u001b[0m             data,\n\u001b[0;32m    764\u001b[0m             index,\n\u001b[0;32m    765\u001b[0m             columns,\n\u001b[0;32m    766\u001b[0m             dtype\u001b[39m=\u001b[39;49mdtype,\n\u001b[0;32m    767\u001b[0m             copy\u001b[39m=\u001b[39;49mcopy,\n\u001b[0;32m    768\u001b[0m             typ\u001b[39m=\u001b[39;49mmanager,\n\u001b[0;32m    769\u001b[0m         )\n\u001b[0;32m    770\u001b[0m \u001b[39melse\u001b[39;00m:\n\u001b[0;32m    771\u001b[0m     mgr \u001b[39m=\u001b[39m dict_to_mgr(\n\u001b[0;32m    772\u001b[0m         {},\n\u001b[0;32m    773\u001b[0m         index,\n\u001b[1;32m   (...)\u001b[0m\n\u001b[0;32m    776\u001b[0m         typ\u001b[39m=\u001b[39mmanager,\n\u001b[0;32m    777\u001b[0m     )\n",
      "File \u001b[1;32mc:\\Users\\TRC\\AppData\\Local\\Programs\\Python\\Python311\\Lib\\site-packages\\pandas\\core\\internals\\construction.py:329\u001b[0m, in \u001b[0;36mndarray_to_mgr\u001b[1;34m(values, index, columns, dtype, copy, typ)\u001b[0m\n\u001b[0;32m    324\u001b[0m         values \u001b[39m=\u001b[39m values\u001b[39m.\u001b[39mreshape(\u001b[39m-\u001b[39m\u001b[39m1\u001b[39m, \u001b[39m1\u001b[39m)\n\u001b[0;32m    326\u001b[0m \u001b[39melse\u001b[39;00m:\n\u001b[0;32m    327\u001b[0m     \u001b[39m# by definition an array here\u001b[39;00m\n\u001b[0;32m    328\u001b[0m     \u001b[39m# the dtypes will be coerced to a single dtype\u001b[39;00m\n\u001b[1;32m--> 329\u001b[0m     values \u001b[39m=\u001b[39m _prep_ndarraylike(values, copy\u001b[39m=\u001b[39;49mcopy_on_sanitize)\n\u001b[0;32m    331\u001b[0m \u001b[39mif\u001b[39;00m dtype \u001b[39mis\u001b[39;00m \u001b[39mnot\u001b[39;00m \u001b[39mNone\u001b[39;00m \u001b[39mand\u001b[39;00m \u001b[39mnot\u001b[39;00m is_dtype_equal(values\u001b[39m.\u001b[39mdtype, dtype):\n\u001b[0;32m    332\u001b[0m     \u001b[39m# GH#40110 see similar check inside sanitize_array\u001b[39;00m\n\u001b[0;32m    333\u001b[0m     rcf \u001b[39m=\u001b[39m \u001b[39mnot\u001b[39;00m (is_integer_dtype(dtype) \u001b[39mand\u001b[39;00m values\u001b[39m.\u001b[39mdtype\u001b[39m.\u001b[39mkind \u001b[39m==\u001b[39m \u001b[39m\"\u001b[39m\u001b[39mf\u001b[39m\u001b[39m\"\u001b[39m)\n",
      "File \u001b[1;32mc:\\Users\\TRC\\AppData\\Local\\Programs\\Python\\Python311\\Lib\\site-packages\\pandas\\core\\internals\\construction.py:583\u001b[0m, in \u001b[0;36m_prep_ndarraylike\u001b[1;34m(values, copy)\u001b[0m\n\u001b[0;32m    581\u001b[0m     values \u001b[39m=\u001b[39m values\u001b[39m.\u001b[39mreshape((values\u001b[39m.\u001b[39mshape[\u001b[39m0\u001b[39m], \u001b[39m1\u001b[39m))\n\u001b[0;32m    582\u001b[0m \u001b[39melif\u001b[39;00m values\u001b[39m.\u001b[39mndim \u001b[39m!=\u001b[39m \u001b[39m2\u001b[39m:\n\u001b[1;32m--> 583\u001b[0m     \u001b[39mraise\u001b[39;00m \u001b[39mValueError\u001b[39;00m(\u001b[39mf\u001b[39m\u001b[39m\"\u001b[39m\u001b[39mMust pass 2-d input. shape=\u001b[39m\u001b[39m{\u001b[39;00mvalues\u001b[39m.\u001b[39mshape\u001b[39m}\u001b[39;00m\u001b[39m\"\u001b[39m)\n\u001b[0;32m    585\u001b[0m \u001b[39mreturn\u001b[39;00m values\n",
      "\u001b[1;31mValueError\u001b[0m: Must pass 2-d input. shape=(1, 183, 275, 3)"
     ]
    }
   ],
   "source": [
    "# read the images and convert them into array and fit it model\n",
    "X = df['image']\n",
    "y = df['label']\n",
    "df1 = []\n",
    "\n",
    "# Image transformation\n",
    "for i in range(len(X)):\n",
    "    img = cv.imread(X[i])\n",
    "\n",
    "    # Resize the image to 255\n",
    "    # img = cv.resize(img,(255,1))\n",
    "\n",
    "    df1.append(img)\n",
    "    X[i]=pd.DataFrame([df1[i]])\n",
    "\n",
    "X = pd.DataFrame(df1)"
   ]
  }
 ],
 "metadata": {
  "kernelspec": {
   "display_name": "Python 3",
   "language": "python",
   "name": "python3"
  },
  "language_info": {
   "codemirror_mode": {
    "name": "ipython",
    "version": 3
   },
   "file_extension": ".py",
   "mimetype": "text/x-python",
   "name": "python",
   "nbconvert_exporter": "python",
   "pygments_lexer": "ipython3",
   "version": "3.11.6"
  }
 },
 "nbformat": 4,
 "nbformat_minor": 2
}
